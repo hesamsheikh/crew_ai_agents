{
 "cells": [
  {
   "cell_type": "markdown",
   "metadata": {},
   "source": [
    "## Given a topic, gather data from the web and create an Engaging Blog Post"
   ]
  },
  {
   "cell_type": "code",
   "execution_count": 1,
   "metadata": {},
   "outputs": [],
   "source": [
    "import os\n",
    "from dotenv import load_dotenv\n",
    "from crewai_tools import SerperDevTool\n",
    "from langchain_openai import ChatOpenAI\n",
    "from crewai import Agent, Task, Crew, Process\n",
    "from IPython.display import Markdown, display\n",
    "\n",
    "load_dotenv()\n",
    "\n",
    "llm = ChatOpenAI(\n",
    "    model=\"mistral\",\n",
    "    base_url=\"http://localhost:11434/v1\"\n",
    ")"
   ]
  },
  {
   "cell_type": "markdown",
   "metadata": {},
   "source": [
    "#### Make sure you add your [serper API key](https://serper.dev/) in the `.env` file."
   ]
  },
  {
   "cell_type": "code",
   "execution_count": 2,
   "metadata": {},
   "outputs": [],
   "source": [
    "search_tool = SerperDevTool()"
   ]
  },
  {
   "cell_type": "markdown",
   "metadata": {},
   "source": [
    "### Define Agents\n",
    "\n",
    "We'll define two agents:\n",
    "\n",
    "- `Researcher` : A Senior Research Analyst\n",
    "\n",
    "- `Writer` : A Tech Content Strategist"
   ]
  },
  {
   "cell_type": "code",
   "execution_count": 3,
   "metadata": {},
   "outputs": [],
   "source": [
    "# Define your agents with roles and goals\n",
    "researcher = Agent(\n",
    "  role='Senior Research Analyst',\n",
    "  goal='Uncover cutting-edge developments in AI and data science',\n",
    "  backstory=\"\"\"You work at a leading tech think tank.\n",
    "  Your expertise lies in identifying emerging trends.\n",
    "  You have a knack for dissecting complex data and presenting actionable insights.\"\"\",\n",
    "  verbose=True,\n",
    "  allow_delegation=False,\n",
    "  tools=[search_tool],\n",
    "  llm=llm\n",
    ")\n",
    "\n",
    "writer = Agent(\n",
    "  role='Tech Content Strategist',\n",
    "  goal='Craft compelling content on tech advancements',\n",
    "  backstory=\"\"\"You are a renowned Content Strategist, known for your insightful and engaging articles.\n",
    "  You transform complex concepts into compelling narratives.\"\"\",\n",
    "  verbose=True,\n",
    "  allow_delegation=False,\n",
    "  llm=llm\n",
    ")"
   ]
  },
  {
   "cell_type": "markdown",
   "metadata": {},
   "source": [
    "### Define Tasks\n",
    "\n",
    "The idea is to break the goal into subtasks (task1, task2...) and then sequence them in a pipeline."
   ]
  },
  {
   "cell_type": "code",
   "execution_count": 4,
   "metadata": {},
   "outputs": [],
   "source": [
    "# Create tasks for your agents\n",
    "task1 = Task(\n",
    "  description=\"\"\"Conduct a comprehensive analysis of the latest advancements in AI in 2024.\n",
    "  Identify key trends, breakthrough technologies, and potential industry impacts.\"\"\",\n",
    "  expected_output=\"Full analysis report in bullet points\",\n",
    "  agent=researcher\n",
    ")\n",
    "\n",
    "task2 = Task(\n",
    "  description=\"\"\"Using the insights provided, develop an engaging blog\n",
    "  post that highlights the most significant AI advancements.\n",
    "  Your post should be informative yet accessible, catering to a tech-savvy audience.\n",
    "  Make it sound cool, avoid complex words so it doesn't sound like AI.\"\"\",\n",
    "  expected_output=\"Full blog post of at least 4 paragraphs\",\n",
    "  agent=writer\n",
    ")"
   ]
  },
  {
   "cell_type": "markdown",
   "metadata": {},
   "source": [
    "### Build the Crew\n",
    "\n",
    "Instantiate your crew with a sequential process & the kick it off! 🚀"
   ]
  },
  {
   "cell_type": "code",
   "execution_count": 5,
   "metadata": {},
   "outputs": [
    {
     "name": "stdout",
     "output_type": "stream",
     "text": [
      "\u001b[1m\u001b[95m [DEBUG]: == Working Agent: Senior Research Analyst\u001b[00m\n",
      "\u001b[1m\u001b[95m [INFO]: == Starting Task: Conduct a comprehensive analysis of the latest advancements in AI in 2024.\n",
      "  Identify key trends, breakthrough technologies, and potential industry impacts.\u001b[00m\n",
      "\n",
      "\n",
      "\u001b[1m> Entering new CrewAgentExecutor chain...\u001b[0m\n",
      "\u001b[32;1m\u001b[1;3m I need to conduct a comprehensive analysis of the latest advancements in AI in 2024 to identify key trends, breakthrough technologies, and potential industry impacts. I will accomplish this by searching the internet for relevant information using the \"Search the internet\" tool.\n",
      "\n",
      "Action: Search the internet\n",
      "Action Input: {'search_query': 'latest advancements in AI 2024 trends breakthrough technologies industry impact'}\u001b[0m\u001b[95m \n",
      "\n",
      "\n",
      "Search results: Title: 10 Breakthrough Technologies 2024 | MIT Technology Review\n",
      "Link: https://www.technologyreview.com/2024/01/08/1085094/10-breakthrough-technologies-2024/\n",
      "Snippet: Every year, we look for promising technologies poised to have a real impact on the world. Here are the advances that we think matter most right\n",
      "---\n",
      "Title: 11 New Technologies in AI: All Trends of 2023-2024 - devabit\n",
      "Link: https://devabit.com/blog/top-11-new-technologies-in-ai-exploring-the-latest-trends/\n",
      "Snippet: From GPT-4 and GANS to XAI and NLP, discover the new technologies in AI and find out how they can be implemented in your business to make a profit.\n",
      "---\n",
      "Title: Clarivate Identifies Five Breakthrough Medical Technologies Set to ...\n",
      "Link: https://clarivate.com/news/clarivate-identifies-five-breakthrough-medical-technologies-set-to-transform-patient-care-in-2024/\n",
      "Snippet: New report highlights innovations poised to drive significant clinical and market impact. London, U.K. May 22, 2023.\n",
      "---\n",
      "Title: 22 New Technology Trends for 2024: New Tech Horizons\n",
      "Link: https://www.simplilearn.com/top-technology-trends-and-jobs-article\n",
      "Snippet: Stay ahead of the curve with the latest technology trends! Explore cutting-edge innovations shaping our world, from AI to blockchain.\n",
      "---\n",
      "Title: The Future Now: Exploring the Top Tech Trends of 2024 - IgniteTech\n",
      "Link: https://ignitetech.com/about/blogs/future-now-exploring-top-tech-trends-2024\n",
      "Snippet: This blog post offers a comprehensive look at the most influential tech trends of 2024, from the rise of GenAI to breakthroughs in quantum ...\n",
      "---\n",
      "Title: 2024 Technology Trends For Fast-Growing Organizations - Forbes\n",
      "Link: https://www.forbes.com/sites/forbestechcouncil/2024/03/01/2024-technology-trends-for-fast-growing-organizations/\n",
      "Snippet: With an early view into 2024, it's clear that technology in 2024 will revolve around new advancements (and threats) from artificial intelligence ...\n",
      "---\n",
      "Title: Top AI and Technology Trends in 2024 and Beyond - GO-Globe\n",
      "Link: https://www.go-globe.com/top-ai-and-technology-trends-in-2024-and-beyond/\n",
      "Snippet: AI's impact on healthcare accelerates in 2024, with a focus on precision medicine and diagnostic advancements. Machine learning algorithms ...\n",
      "---\n",
      "Title: Exploring AI's Revolution: Breakthroughs & 2024 Trends\n",
      "Link: https://amaris.com/insights/news/ai-trends-2024/\n",
      "Snippet: Explore post-2023 AI landscape, addressing highs and challenges shaping AI's trajectory in 2024 and beyond.\n",
      "---\n",
      "Title: Five healthcare technology trends in 2024 - Medtronic\n",
      "Link: https://news.medtronic.com/five-healthcare-technology-trends-in-2024-newsroom\n",
      "Snippet: From generative AI to surgical robots, healthcare technology is a fast-moving vehicle for innovation. stock image man with headset on.\n",
      "---\n",
      "Title: [PDF] 2024 TECH TRENDS REPORT - Future Today Institute\n",
      "Link: https://futuretodayinstitute.com/wp-content/uploads/2024/03/TR2024_Full-Report_FINAL_LINKED.pdf\n",
      "Snippet: Recent breakthroughs have accelerated the convergence of biology, information systems, and advanced platforms, and attention has been focused on generative AI.\n",
      "---\n",
      "\n",
      "\u001b[00m\n",
      "\u001b[32;1m\u001b[1;3m Thought: Based on the search results, I will identify the key trends, breakthrough technologies, and potential industry impacts in AI for 2024.\n",
      "\n",
      "Final Answer:\n",
      "\n",
      "- Key Trends:\n",
      "  * Increased focus on Generative AI and its convergence with biology, information systems, and advanced platforms.\n",
      "  * Growing influence of AI in healthcare, particularly in precision medicine and diagnostic advancements.\n",
      "  * The rise of Quantum Computing and its impact on machine learning algorithms and big data processing capabilities.\n",
      "  * Advancements in XAI (explainable artificial intelligence), ensuring greater transparency and trustworthiness of AI systems.\n",
      "- Breakthrough Technologies:\n",
      "  * GPT-4, the next evolution in large language models that can generate coherent and contextually relevant responses to prompts.\n",
      "  * GANS (Generative Adversarial Networks for Synthesis), enabling the creation of realistic images, text, audio, and even video.\n",
      "  * XAI (Explainable Artificial Intelligence), making AI systems more transparent, interpretable, and trustworthy by explaining their reasoning processes.\n",
      "- Potential Industry Impacts:\n",
      "  * Enhanced customer experiences through personalized interactions powered by advanced NLP capabilities.\n",
      "  * Increased operational efficiencies, as businesses adopt AI for automating repetitive tasks and gaining deeper insights from data.\n",
      "  * Transformative advances in healthcare through precision medicine, diagnostic advancements, and improved patient care using AI technologies.\n",
      "  * A new wave of innovation driven by the integration of Quantum Computing into machine learning algorithms and big data processing capabilities.\u001b[0m\n",
      "\n",
      "\u001b[1m> Finished chain.\u001b[0m\n",
      "\u001b[1m\u001b[92m [DEBUG]: == [Senior Research Analyst] Task output: - Key Trends:\n",
      "  * Increased focus on Generative AI and its convergence with biology, information systems, and advanced platforms.\n",
      "  * Growing influence of AI in healthcare, particularly in precision medicine and diagnostic advancements.\n",
      "  * The rise of Quantum Computing and its impact on machine learning algorithms and big data processing capabilities.\n",
      "  * Advancements in XAI (explainable artificial intelligence), ensuring greater transparency and trustworthiness of AI systems.\n",
      "- Breakthrough Technologies:\n",
      "  * GPT-4, the next evolution in large language models that can generate coherent and contextually relevant responses to prompts.\n",
      "  * GANS (Generative Adversarial Networks for Synthesis), enabling the creation of realistic images, text, audio, and even video.\n",
      "  * XAI (Explainable Artificial Intelligence), making AI systems more transparent, interpretable, and trustworthy by explaining their reasoning processes.\n",
      "- Potential Industry Impacts:\n",
      "  * Enhanced customer experiences through personalized interactions powered by advanced NLP capabilities.\n",
      "  * Increased operational efficiencies, as businesses adopt AI for automating repetitive tasks and gaining deeper insights from data.\n",
      "  * Transformative advances in healthcare through precision medicine, diagnostic advancements, and improved patient care using AI technologies.\n",
      "  * A new wave of innovation driven by the integration of Quantum Computing into machine learning algorithms and big data processing capabilities.\n",
      "\n",
      "\u001b[00m\n",
      "\u001b[1m\u001b[95m [DEBUG]: == Working Agent: Tech Content Strategist\u001b[00m\n",
      "\u001b[1m\u001b[95m [INFO]: == Starting Task: Using the insights provided, develop an engaging blog\n",
      "  post that highlights the most significant AI advancements.\n",
      "  Your post should be informative yet accessible, catering to a tech-savvy audience.\n",
      "  Make it sound cool, avoid complex words so it doesn't sound like AI.\u001b[00m\n",
      "\n",
      "\n",
      "\u001b[1m> Entering new CrewAgentExecutor chain...\u001b[0m\n",
      "\u001b[32;1m\u001b[1;3m I now can give a great answer\n",
      "\n",
      "Final Answer:\n",
      "\n",
      "Title: Unraveling the Future: A Journey into the Most Exciting AI Advancements\n",
      "\n",
      "Paragraph 1:\n",
      "Welcome, tech-savvy travelers! Buckle up as we embark on an enthralling odyssey through the latest breakthroughs in artificial intelligence (AI), a realm where technology meets creativity and innovation. In recent years, AI has transformed from being an intriguing novelty into an integral part of our lives, shaping industries, revolutionizing healthcare, and enriching human experiences. So, what are some of the most groundbreaking AI advancements you might ask? Let's find out!\n",
      "\n",
      "Paragraph 2:\n",
      "Our first stop is the thrilling convergence of AI with generative technologies, biology, information systems, and advanced platforms. Generative AI's rise has been nothing short of breathtaking; it's creating lifelike images, text, audio, even video, making us question what's real and what's not. Imagine generating a custom painting just by describing it, or creating a unique jingle for your brand with mere words. With Generative Adversarial Networks (GANS) leading the way in this field, get ready to witness creations that were once thought impossible.\n",
      "\n",
      "Paragraph 3:\n",
      "As we venture further into the AI landscape, let's take a detour to explore healthcare, where AI is making a significant impact on precision medicine and diagnostic advancements. By analyzing vast amounts of data, AI algorithms can identify disease patterns early on, predict treatment outcomes, and recommend personalized therapeutic interventions – all contributing to enhanced patient care and better health outcomes for millions around the globe.\n",
      "\n",
      "Paragraph 4:\n",
      "Lastly, let's delve into the game-changing world of Quantum Computing and its impact on machine learning algorithms and big data processing capabilities. This cutting-edge technology allows computers to process information exponentially faster than before, paving the way for more sophisticated AI systems, groundbreaking innovations, and unforeseen advancements – a true testament to the boundless potential of artificial intelligence!\n",
      "\n",
      "As our journey comes to an end, I hope you've enjoyed this exciting exploration into some of the most captivating AI advancements shaping our world. Stay tuned for more adventures, as we continue unraveling the future, one fascinating technology at a time.\u001b[0m\n",
      "\n",
      "\u001b[1m> Finished chain.\u001b[0m\n",
      "\u001b[1m\u001b[92m [DEBUG]: == [Tech Content Strategist] Task output: Title: Unraveling the Future: A Journey into the Most Exciting AI Advancements\n",
      "\n",
      "Paragraph 1:\n",
      "Welcome, tech-savvy travelers! Buckle up as we embark on an enthralling odyssey through the latest breakthroughs in artificial intelligence (AI), a realm where technology meets creativity and innovation. In recent years, AI has transformed from being an intriguing novelty into an integral part of our lives, shaping industries, revolutionizing healthcare, and enriching human experiences. So, what are some of the most groundbreaking AI advancements you might ask? Let's find out!\n",
      "\n",
      "Paragraph 2:\n",
      "Our first stop is the thrilling convergence of AI with generative technologies, biology, information systems, and advanced platforms. Generative AI's rise has been nothing short of breathtaking; it's creating lifelike images, text, audio, even video, making us question what's real and what's not. Imagine generating a custom painting just by describing it, or creating a unique jingle for your brand with mere words. With Generative Adversarial Networks (GANS) leading the way in this field, get ready to witness creations that were once thought impossible.\n",
      "\n",
      "Paragraph 3:\n",
      "As we venture further into the AI landscape, let's take a detour to explore healthcare, where AI is making a significant impact on precision medicine and diagnostic advancements. By analyzing vast amounts of data, AI algorithms can identify disease patterns early on, predict treatment outcomes, and recommend personalized therapeutic interventions – all contributing to enhanced patient care and better health outcomes for millions around the globe.\n",
      "\n",
      "Paragraph 4:\n",
      "Lastly, let's delve into the game-changing world of Quantum Computing and its impact on machine learning algorithms and big data processing capabilities. This cutting-edge technology allows computers to process information exponentially faster than before, paving the way for more sophisticated AI systems, groundbreaking innovations, and unforeseen advancements – a true testament to the boundless potential of artificial intelligence!\n",
      "\n",
      "As our journey comes to an end, I hope you've enjoyed this exciting exploration into some of the most captivating AI advancements shaping our world. Stay tuned for more adventures, as we continue unraveling the future, one fascinating technology at a time.\n",
      "\n",
      "\u001b[00m\n"
     ]
    }
   ],
   "source": [
    "# Instantiate your crew with a sequential process\n",
    "crew = Crew(\n",
    "  agents=[researcher, writer],\n",
    "  tasks=[task1, task2],\n",
    "  verbose=2, # You can set it to 1 or 2 to different logging levels\n",
    ")\n",
    "\n",
    "# Get your crew to work!\n",
    "result = crew.kickoff()"
   ]
  },
  {
   "cell_type": "markdown",
   "metadata": {},
   "source": [
    "### Display results"
   ]
  },
  {
   "cell_type": "code",
   "execution_count": 6,
   "metadata": {},
   "outputs": [
    {
     "data": {
      "text/markdown": [
       "Title: Unraveling the Future: A Journey into the Most Exciting AI Advancements\n",
       "\n",
       "Paragraph 1:\n",
       "Welcome, tech-savvy travelers! Buckle up as we embark on an enthralling odyssey through the latest breakthroughs in artificial intelligence (AI), a realm where technology meets creativity and innovation. In recent years, AI has transformed from being an intriguing novelty into an integral part of our lives, shaping industries, revolutionizing healthcare, and enriching human experiences. So, what are some of the most groundbreaking AI advancements you might ask? Let's find out!\n",
       "\n",
       "Paragraph 2:\n",
       "Our first stop is the thrilling convergence of AI with generative technologies, biology, information systems, and advanced platforms. Generative AI's rise has been nothing short of breathtaking; it's creating lifelike images, text, audio, even video, making us question what's real and what's not. Imagine generating a custom painting just by describing it, or creating a unique jingle for your brand with mere words. With Generative Adversarial Networks (GANS) leading the way in this field, get ready to witness creations that were once thought impossible.\n",
       "\n",
       "Paragraph 3:\n",
       "As we venture further into the AI landscape, let's take a detour to explore healthcare, where AI is making a significant impact on precision medicine and diagnostic advancements. By analyzing vast amounts of data, AI algorithms can identify disease patterns early on, predict treatment outcomes, and recommend personalized therapeutic interventions – all contributing to enhanced patient care and better health outcomes for millions around the globe.\n",
       "\n",
       "Paragraph 4:\n",
       "Lastly, let's delve into the game-changing world of Quantum Computing and its impact on machine learning algorithms and big data processing capabilities. This cutting-edge technology allows computers to process information exponentially faster than before, paving the way for more sophisticated AI systems, groundbreaking innovations, and unforeseen advancements – a true testament to the boundless potential of artificial intelligence!\n",
       "\n",
       "As our journey comes to an end, I hope you've enjoyed this exciting exploration into some of the most captivating AI advancements shaping our world. Stay tuned for more adventures, as we continue unraveling the future, one fascinating technology at a time."
      ],
      "text/plain": [
       "<IPython.core.display.Markdown object>"
      ]
     },
     "metadata": {},
     "output_type": "display_data"
    }
   ],
   "source": [
    "display(Markdown(str(result)))"
   ]
  },
  {
   "cell_type": "code",
   "execution_count": null,
   "metadata": {},
   "outputs": [],
   "source": []
  }
 ],
 "metadata": {
  "kernelspec": {
   "display_name": "Python 3",
   "language": "python",
   "name": "python3"
  },
  "language_info": {
   "codemirror_mode": {
    "name": "ipython",
    "version": 3
   },
   "file_extension": ".py",
   "mimetype": "text/x-python",
   "name": "python",
   "nbconvert_exporter": "python",
   "pygments_lexer": "ipython3",
   "version": "3.10.10"
  }
 },
 "nbformat": 4,
 "nbformat_minor": 4
}
