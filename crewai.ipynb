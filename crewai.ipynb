{
 "cells": [
  {
   "cell_type": "markdown",
   "metadata": {},
   "source": [
    "## Given a topic, gather data from the web and create an Engaging Blog Post"
   ]
  },
  {
   "cell_type": "code",
   "execution_count": 3,
   "metadata": {},
   "outputs": [],
   "source": [
    "import os\n",
    "from dotenv import load_dotenv\n",
    "from crewai_tools import SerperDevTool\n",
    "from langchain_openai import ChatOpenAI\n",
    "from crewai import Agent, Task, Crew, Process\n",
    "from IPython.display import Markdown, display\n",
    "\n",
    "load_dotenv()\n",
    "\n",
    "llm = ChatOpenAI(\n",
    "    model=\"llama3:8b-instruct-q5_1\",\n",
    "    base_url=\"http://localhost:11434/v1\"\n",
    ")"
   ]
  },
  {
   "cell_type": "markdown",
   "metadata": {},
   "source": [
    "#### Make sure you add your [serper API key](https://serper.dev/) in the `.env` file."
   ]
  },
  {
   "cell_type": "code",
   "execution_count": 4,
   "metadata": {},
   "outputs": [],
   "source": [
    "search_tool = SerperDevTool()"
   ]
  },
  {
   "cell_type": "markdown",
   "metadata": {},
   "source": [
    "### Define Agents\n",
    "\n",
    "We'll define two agents:\n",
    "\n",
    "- `Researcher` : A Senior Research Analyst\n",
    "\n",
    "- `Writer` : A Tech Content Strategist"
   ]
  },
  {
   "cell_type": "code",
   "execution_count": 5,
   "metadata": {},
   "outputs": [],
   "source": [
    "# Define your agents with roles and goals\n",
    "researcher = Agent(\n",
    "  role='Senior Research Analyst',\n",
    "  goal='Uncover cutting-edge developments in AI and data science',\n",
    "  backstory=\"\"\"You work at a leading tech think tank.\n",
    "  Your expertise lies in identifying emerging trends.\n",
    "  You have a knack for dissecting complex data and presenting actionable insights.\"\"\",\n",
    "  verbose=True,\n",
    "  allow_delegation=False,\n",
    "  tools=[search_tool],\n",
    "  llm=llm\n",
    ")\n",
    "\n",
    "writer = Agent(\n",
    "  role='Tech Content Strategist',\n",
    "  goal='Craft compelling content on tech advancements',\n",
    "  backstory=\"\"\"You are a renowned Content Strategist, known for your insightful and engaging articles.\n",
    "  You transform complex concepts into compelling narratives.\"\"\",\n",
    "  verbose=True,\n",
    "  allow_delegation=False,\n",
    "  llm=llm\n",
    ")"
   ]
  },
  {
   "cell_type": "markdown",
   "metadata": {},
   "source": [
    "### Define Tasks\n",
    "\n",
    "The idea is to break the goal into subtasks (task1, task2...) and then sequence them in a pipeline."
   ]
  },
  {
   "cell_type": "code",
   "execution_count": 6,
   "metadata": {},
   "outputs": [],
   "source": [
    "# Create tasks for your agents\n",
    "task1 = Task(\n",
    "  description=\"\"\"Conduct a comprehensive analysis of the latest advancements in AI in 2024.\n",
    "  Identify key trends, breakthrough technologies, and potential industry impacts.\"\"\",\n",
    "  expected_output=\"Full analysis report in bullet points\",\n",
    "  agent=researcher\n",
    ")\n",
    "\n",
    "task2 = Task(\n",
    "  description=\"\"\"Using the insights provided, develop an engaging blog\n",
    "  post that highlights the most significant AI advancements.\n",
    "  Your post should be informative yet accessible, catering to a tech-savvy audience.\n",
    "  Make it sound cool, avoid complex words so it doesn't sound like AI.\"\"\",\n",
    "  expected_output=\"Full blog post of at least 4 paragraphs\",\n",
    "  agent=writer\n",
    ")"
   ]
  },
  {
   "cell_type": "markdown",
   "metadata": {},
   "source": [
    "### Build the Crew\n",
    "\n",
    "Instantiate your crew with a sequential process & the kick it off! 🚀"
   ]
  },
  {
   "cell_type": "code",
   "execution_count": 7,
   "metadata": {},
   "outputs": [
    {
     "name": "stdout",
     "output_type": "stream",
     "text": [
      "\u001b[1m\u001b[95m [DEBUG]: == Working Agent: Senior Research Analyst\u001b[00m\n",
      "\u001b[1m\u001b[95m [INFO]: == Starting Task: Conduct a comprehensive analysis of the latest advancements in AI in 2024.\n",
      "  Identify key trends, breakthrough technologies, and potential industry impacts.\u001b[00m\n",
      "\n",
      "\n",
      "\u001b[1m> Entering new CrewAgentExecutor chain...\u001b[0m\n"
     ]
    },
    {
     "name": "stdout",
     "output_type": "stream",
     "text": [
      "\u001b[32;1m\u001b[1;3mAction: Search the internet\n",
      "Action Input: {'search_query': 'latest advancements in AI 2024\u001b[0m\u001b[32;1m\u001b[1;3mI apologize for the mistake. It seems that I incorrectly formatted my Action Input. Here's another attempt:\n",
      "\n",
      "Thought:\n",
      "Action: Search the internet\n",
      "Action Input: {\"search_query\": \"latest advancements in AI 2024\u001b[0m\u001b[32;1m\u001b[1;3mIt looks like there's been a slight misstep! No worries, let's try again.\n",
      "\n",
      "Thought: I'll make sure to double-check my formatting this time!\n",
      "Action: Search the internet\n",
      "Action Input: {\"search_query\": \"latest advancements in AI 2024\u001b[0m\u001b[32;1m\u001b[1;3mI apologize for the mistake again! This time, I'll make sure to get it right.\n",
      "\n",
      "Here's another attempt:\n",
      "\n",
      "Thought: Double-checking my formatting this time!\n",
      "Action: Search the internet\n",
      "Action Input: {\"search_query\": \"latest advancements in AI 2024\u001b[0m\u001b[32;1m\u001b[1;3mIt seems like I'm having some trouble with the action input format. Let me try again.\n",
      "\n",
      "Thought: Double-checking my formatting this time!\n",
      "Action: Search the internet\n",
      "Action Input: {\"search_query\": \"latest advancements in AI 2024\u001b[0m\u001b[32;1m\u001b[1;3mI apologize for the mistake. It seems that I'm having trouble with the action input format. Let me try again.\n",
      "\n",
      "Thought: I'll make sure to double-check my formatting this time!\n",
      "Action: Search the internet\n",
      "Action Input: {\"search_query\": \"latest advancements in AI 2024\u001b[0m\u001b[32;1m\u001b[1;3mI see what's going on here. It seems like we're having some trouble with the action input format.\n",
      "\n",
      "Let me try again, this time making sure to use the correct formatting for a Python dictionary.\n",
      "\n",
      "Thought: Double-checking my formatting this time!\n",
      "Action: Search the internet\n",
      "Action Input: {\"search_query\": \"'latest advancements in AI 2024'\"\u001b[0m\u001b[32;1m\u001b[1;3mLet's try again!\n",
      "\n",
      "Thought: I'll make sure to double-check my formatting this time!\n",
      "Action: Search the internet\n",
      "Action Input: {'search_query': \"'latest advancements in AI 2024'\"}  # Notice the single quotes around the search query\u001b[0m\u001b[95m \n",
      "\n",
      "\n",
      "Search results: Title: The most important AI trends in 2024 - YouTube\n",
      "Link: https://www.youtube.com/watch?v=sGZ6AlAnULc\n",
      "Snippet: Explore IBM watsonx → https://ibm.biz/get_started-watsonx AI is growing at a frenetic pace - just ...\n",
      "---\n",
      "Title: 3 big AI trends to watch in 2024 - Microsoft News\n",
      "Link: https://news.microsoft.com/three-big-ai-trends-to-watch-in-2024/\n",
      "Snippet: AI is expected to become more accessible, nuanced and integrated in technologies that help people. Here are three AI trends to watch in ...\n",
      "---\n",
      "Title: Top 10 AI Developments for 2024 & Beyond - LinkedIn\n",
      "Link: https://www.linkedin.com/pulse/top-10-ai-developments-2024-beyond-thecodework-1fy4c\n",
      "Snippet: Top 10 AI Developments for 2024 & Beyond · Accelerated Pace of Innovation: · Nuanced Sentiment Analysis: · Dynamic Dialogue Handling: · Legislative ...\n",
      "---\n",
      "Title: Artificial Intelligence In 2024: What It Has In Store For Us - Forbes\n",
      "Link: https://www.forbes.com/sites/forbestechcouncil/2024/01/31/artificial-intelligence-in-2024-what-it-has-in-store-for-us/\n",
      "Snippet: Artificial intelligence (AI) has led to countless technological advancements in 2023. The advent of automation and machine learning will ...\n",
      "---\n",
      "Title: Top 5 AI Trends to Watch in 2024 - TechRepublic\n",
      "Link: https://www.techrepublic.com/article/top-ai-trends/\n",
      "Snippet: Top 5 AI Trends to Watch in 2024 · AI adoption increasingly looks like integration with existing applications · Retrieval-augmented generation ...\n",
      "---\n",
      "Title: AI Index Report 2024 – Artificial Intelligence Index - Stanford University\n",
      "Link: https://aiindex.stanford.edu/report/\n",
      "Snippet: This year, we have broadened our scope to more extensively cover essential trends such as technical advancements in AI, public perceptions of the technology, ...\n",
      "---\n",
      "Title: 7 rapid AI trends happening in 2024 - Khoros\n",
      "Link: https://khoros.com/blog/ai-trends\n",
      "Snippet: In this article, we'll cover the 7 most rapid AI trends this year, such as advancements in multimodal AI, the rise of AI regulations, increased ...\n",
      "---\n",
      "Title: Top 12 AI Technology Trends for 2024 - MindInventory\n",
      "Link: https://www.mindinventory.com/blog/ai-technology-trends/\n",
      "Snippet: From groundbreaking advancements in machine learning to the rise of generative AI, we have witnessed the evolution of AI, shaping our future ...\n",
      "---\n",
      "Title: 11 New Technologies in AI: All Trends of 2023-2024 - devabit\n",
      "Link: https://devabit.com/blog/top-11-new-technologies-in-ai-exploring-the-latest-trends/\n",
      "Snippet: From GPT-4 and GANS to XAI and NLP, discover the new technologies in AI and find out how they can be implemented in your business to make a profit.\n",
      "---\n",
      "\n",
      "\u001b[00m\n"
     ]
    }
   ],
   "source": [
    "# Instantiate your crew with a sequential process\n",
    "crew = Crew(\n",
    "  agents=[researcher, writer],\n",
    "  tasks=[task1, task2],\n",
    "  verbose=2, # You can set it to 1 or 2 to different logging levels\n",
    ")\n",
    "\n",
    "# Get your crew to work!\n",
    "result = crew.kickoff()"
   ]
  },
  {
   "cell_type": "markdown",
   "metadata": {},
   "source": [
    "### Display results"
   ]
  },
  {
   "cell_type": "code",
   "execution_count": 16,
   "metadata": {},
   "outputs": [
    {
     "data": {
      "text/markdown": [
       "Title: The Future is Here: Marvel at These Cool Advancements in AI Technology\n",
       "\n",
       "Imagine a world where machines can understand and respond to human emotions, create art, diagnose diseases with precision, or even drive us around town. Welcome to the fascinating future of Artificial Intelligence (AI)! In 2024, AI technology is poised to revolutionize our lives in ways beyond our wildest dreams. Here are some of the most intriguing advancements that will soon change the game:\n",
       "\n",
       "1. Advanced Brainpower: Researchers are pushing the boundaries by designing more sophisticated neural networks, complete with deep architectures and massive datasets. These advancements will give AI systems the ability to process complex information and make astonishingly accurate predictions - think next-level image and speech recognition or advanced predictive analytics!\n",
       "\n",
       "2. The Future of Human Interaction: From Siri to Alexa, voice assistants are only the tip of the iceberg. Get ready for more sophisticated human-machine interactions like gesture control or immersive virtual/augmented reality systems! These advancements will make our digital interfaces smoother and more intuitive than ever before, blurring the lines between technology and us.\n",
       "\n",
       "3. Ethics in Tech: With great power comes great responsibility. As AI seeps into industries and applications ranging from healthcare to self-driving cars, it's crucial that we establish ethical guidelines for their development and use. Ensuring that these machines act fairly and responsibly is essential to creating a safe and prosperous future.\n",
       "\n",
       "4. Quantum Leap: When the power of quantum computing meets AI, magic happens! Expect breakthroughs in data analysis, optimization, and machine learning in various fields like finance, logistics, and healthcare, potentially leading to revolutionary discoveries and innovations.\n",
       "\n",
       "5. Robotic Revolution: Self-driving vehicles, drones for various applications, industrial automation, and even advanced prosthetics are all powered by advances in autonomous systems and robotics. These technologies will not only make our lives easier but also contribute significantly to industries like transportation, agriculture, and healthcare.\n",
       "\n",
       "6. Intelligent Companions: AI is evolving into cognitive computing and brain-machine interfaces - essentially, machines that understand, learn, reason, and communicate like humans! These advancements have the potential to create intelligent companions that can function independently in complex environments, opening up endless possibilities.\n",
       "\n",
       "7. Shielding Our Digital World: With advanced cybersecurity measures and robust data privacy policies, we can protect our sensitive information from unwelcome intruders while harnessing the power of AI technology for a better tomorrow.\n",
       "\n",
       "8. Energy-Powered Progress: The growing demands of AI require massive amounts of energy. Innovations in battery technology, energy storage systems, and power grids will ensure that these demands are met without negatively impacting our environment.\n",
       "\n",
       "9. Cosmic Exploration: Space is the final frontier, and AI is essential to conquering it! From self-driving rovers on other planets to advanced satellite data analysis, AI will enable us to better understand our universe and potentially colonize other planets.\n",
       "\n",
       "These advancements and countless others are just the beginning of a new era in AI technology. As we continue to push the boundaries of what's possible, we can only imagine the exciting developments that await us!"
      ],
      "text/plain": [
       "<IPython.core.display.Markdown object>"
      ]
     },
     "metadata": {},
     "output_type": "display_data"
    }
   ],
   "source": [
    "display(Markdown(str(result)))"
   ]
  },
  {
   "cell_type": "code",
   "execution_count": null,
   "metadata": {},
   "outputs": [],
   "source": []
  }
 ],
 "metadata": {
  "kernelspec": {
   "display_name": "Python 3",
   "language": "python",
   "name": "python3"
  },
  "language_info": {
   "codemirror_mode": {
    "name": "ipython",
    "version": 3
   },
   "file_extension": ".py",
   "mimetype": "text/x-python",
   "name": "python",
   "nbconvert_exporter": "python",
   "pygments_lexer": "ipython3",
   "version": "3.10.10"
  }
 },
 "nbformat": 4,
 "nbformat_minor": 4
}
